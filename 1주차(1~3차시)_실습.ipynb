{
  "nbformat": 4,
  "nbformat_minor": 0,
  "metadata": {
    "colab": {
      "name": "1주차(1~3차시) 실습.ipynb",
      "provenance": [],
      "collapsed_sections": [],
      "authorship_tag": "ABX9TyOM9h3be2KYu3/UqcvaF8hu",
      "include_colab_link": true
    },
    "kernelspec": {
      "name": "python3",
      "display_name": "Python 3"
    },
    "language_info": {
      "name": "python"
    }
  },
  "cells": [
    {
      "cell_type": "markdown",
      "metadata": {
        "id": "view-in-github",
        "colab_type": "text"
      },
      "source": [
        "<a href=\"https://colab.research.google.com/github/psalms274/psalms274.github.io/blob/main/1%EC%A3%BC%EC%B0%A8(1~3%EC%B0%A8%EC%8B%9C)_%EC%8B%A4%EC%8A%B5.ipynb\" target=\"_parent\"><img src=\"https://colab.research.google.com/assets/colab-badge.svg\" alt=\"Open In Colab\"/></a>"
      ]
    },
    {
      "cell_type": "code",
      "execution_count": 1,
      "metadata": {
        "colab": {
          "base_uri": "https://localhost:8080/"
        },
        "id": "xZULSq58mFGW",
        "outputId": "1a350862-5364-405b-e5b6-82d3bf0daa6e"
      },
      "outputs": [
        {
          "output_type": "execute_result",
          "data": {
            "text/plain": [
              "100000"
            ]
          },
          "metadata": {},
          "execution_count": 1
        }
      ],
      "source": [
        "#숫자형 할당\n",
        "amount=100000\n",
        "amount"
      ]
    },
    {
      "cell_type": "code",
      "source": [
        "#문자형 할당\n",
        "asset=\"stock\"  #문자열 할당 시 작은 따옴표나 큰 따옴표 둘다 사용 가능\n",
        "# 여러 줄의 문자를 저장할 경우, \"\"\"나 '''와 같이 따옴표 세 개를 연이어 사용해야 함\n",
        "print(asset)\n",
        "print(type(asset))  #asset의 자료형 출력\n",
        "\n",
        "print(asset[0])  #asset에 저장된 문자열의 첫 번째 요소 출력\n",
        "print(len(asset))  #asset에 저장된 문자열의 길이 출력"
      ],
      "metadata": {
        "colab": {
          "base_uri": "https://localhost:8080/"
        },
        "id": "cgJM6G4ymQpj",
        "outputId": "0a427a64-a651-4d42-cde5-732ed6571c8e"
      },
      "execution_count": 65,
      "outputs": [
        {
          "output_type": "stream",
          "name": "stdout",
          "text": [
            "stock\n",
            "<class 'str'>\n",
            "s\n",
            "5\n"
          ]
        }
      ]
    },
    {
      "cell_type": "code",
      "source": [
        "#숫자형 할당(정수형)\n",
        "quantity=15\n",
        "quantity"
      ],
      "metadata": {
        "colab": {
          "base_uri": "https://localhost:8080/"
        },
        "id": "wtySo-3cmbUB",
        "outputId": "1c7f529a-099a-4aee-993e-2eed6a8d3e1f"
      },
      "execution_count": 4,
      "outputs": [
        {
          "output_type": "execute_result",
          "data": {
            "text/plain": [
              "15"
            ]
          },
          "metadata": {},
          "execution_count": 4
        }
      ]
    },
    {
      "cell_type": "code",
      "source": [
        "#숫자형 할당(실수형)\n",
        "price=amount/quantity\n",
        "price"
      ],
      "metadata": {
        "colab": {
          "base_uri": "https://localhost:8080/"
        },
        "id": "YWP_v9cdmnqD",
        "outputId": "78e06fbb-f31d-401a-c3da-0e3705b6060b"
      },
      "execution_count": 5,
      "outputs": [
        {
          "output_type": "execute_result",
          "data": {
            "text/plain": [
              "6666.666666666667"
            ]
          },
          "metadata": {},
          "execution_count": 5
        }
      ]
    },
    {
      "cell_type": "code",
      "source": [
        "#Boolean형\n",
        "a=True\n",
        "b=False\n",
        "print(a,b)"
      ],
      "metadata": {
        "colab": {
          "base_uri": "https://localhost:8080/"
        },
        "id": "J282dYl5mrKK",
        "outputId": "02f1d4f1-fb45-49e8-a5fa-eb6fdca3017a"
      },
      "execution_count": 6,
      "outputs": [
        {
          "output_type": "stream",
          "name": "stdout",
          "text": [
            "True False\n"
          ]
        }
      ]
    },
    {
      "cell_type": "code",
      "source": [
        "#No value형(첫 번째 출력은 None값이고, 두 번째 출력은 None이라는 문자형임)\n",
        "no_value=None\n",
        "print(no_value)\n",
        "print( type(no_value) )\n",
        "\n",
        "no_value1=\"None\"\n",
        "print(no_value1)\n",
        "print( type(no_value1) )"
      ],
      "metadata": {
        "colab": {
          "base_uri": "https://localhost:8080/"
        },
        "id": "Xsnly-Xnmxav",
        "outputId": "8d64dabc-9d13-4dff-f479-d466b1c64bcd"
      },
      "execution_count": 41,
      "outputs": [
        {
          "output_type": "stream",
          "name": "stdout",
          "text": [
            "None\n",
            "<class 'NoneType'>\n",
            "None\n",
            "<class 'str'>\n"
          ]
        }
      ]
    },
    {
      "cell_type": "code",
      "source": [
        "#자료형(리스트) list라는 변수에 리스트 저장한 것임\n",
        "list=[\"삼성\",\"LG\",\"현대\",\"삼성\"]\n",
        "list"
      ],
      "metadata": {
        "colab": {
          "base_uri": "https://localhost:8080/"
        },
        "id": "I72aKgiEnTNc",
        "outputId": "af69a1c5-ee5e-4f0f-be4f-36ad449605c6"
      },
      "execution_count": 10,
      "outputs": [
        {
          "output_type": "execute_result",
          "data": {
            "text/plain": [
              "['삼성', 'LG', '현대', '삼성']"
            ]
          },
          "metadata": {},
          "execution_count": 10
        }
      ]
    },
    {
      "cell_type": "code",
      "source": [
        "#자료형(튜플) tuple은 list와 달리 값들을 변경하지 않을 경우에 사용한다.\n",
        "tuple=(\"삼성\",\"LG\",\"현대\",\"삼성\")\n",
        "tuple"
      ],
      "metadata": {
        "colab": {
          "base_uri": "https://localhost:8080/"
        },
        "id": "MdI-FnewneUh",
        "outputId": "74874dcc-3f35-4266-be4f-6bafbbde8000"
      },
      "execution_count": 11,
      "outputs": [
        {
          "output_type": "execute_result",
          "data": {
            "text/plain": [
              "('삼성', 'LG', '현대', '삼성')"
            ]
          },
          "metadata": {},
          "execution_count": 11
        }
      ]
    },
    {
      "cell_type": "code",
      "source": [
        "#자료형(집합) set은 중복값을 출력하지 않음\n",
        "set={\"삼성\",\"LG\",\"현대\",\"삼성\"}\n",
        "set"
      ],
      "metadata": {
        "colab": {
          "base_uri": "https://localhost:8080/"
        },
        "id": "LHn1HEunnsCs",
        "outputId": "2a6558c2-a62a-4ff0-9d69-a5740e57a81c"
      },
      "execution_count": 43,
      "outputs": [
        {
          "output_type": "execute_result",
          "data": {
            "text/plain": [
              "{'LG', '삼성', '현대'}"
            ]
          },
          "metadata": {},
          "execution_count": 43
        }
      ]
    },
    {
      "cell_type": "code",
      "source": [
        "#자료형(딕셔너리) 'key:값'의 형태로 한 쌍을 하나의 원소로 저장\n",
        "dict={\"1\":\"삼성\",\"2\":\"LG\",\"3\":\"현대\",\"4\":\"삼성\"}\n",
        "dict"
      ],
      "metadata": {
        "colab": {
          "base_uri": "https://localhost:8080/"
        },
        "id": "MfbCjuiCn6bu",
        "outputId": "c4201ee1-19ee-456e-dfb2-fdd79bb6a68e"
      },
      "execution_count": 13,
      "outputs": [
        {
          "output_type": "execute_result",
          "data": {
            "text/plain": [
              "{'1': '삼성', '2': 'LG', '3': '현대', '4': '삼성'}"
            ]
          },
          "metadata": {},
          "execution_count": 13
        }
      ]
    },
    {
      "cell_type": "code",
      "source": [
        "#제어문(조건문 if) ***제어문 다음에는 반드시 콜론을 사용한다.\n",
        "previous_price = 900\n",
        "current_price = 1000\n",
        "fee = 0.1\n",
        "profit_change = (current_price-previous_price) / previous_price\n",
        "\n",
        "if profit_change > fee:\n",
        "  print(\"buy stock\")\n",
        "elif profit_change < 0:\n",
        "  print(\"sell stock\")\n",
        "else:\n",
        "  print(\"hold stock\")"
      ],
      "metadata": {
        "colab": {
          "base_uri": "https://localhost:8080/"
        },
        "id": "CD5jAtgUoPS0",
        "outputId": "31a6c584-24ab-43e4-f07e-924ad3e4bdd9"
      },
      "execution_count": 23,
      "outputs": [
        {
          "output_type": "stream",
          "name": "stdout",
          "text": [
            "buy stock\n"
          ]
        }
      ]
    },
    {
      "cell_type": "code",
      "source": [
        "#제어문(반복문 for) 아까 list에 저장해둔 값들을 하나씩 출력하는 반복문\n",
        "for i in list:\n",
        "  print(i)"
      ],
      "metadata": {
        "colab": {
          "base_uri": "https://localhost:8080/"
        },
        "id": "3LBXKxalpV7e",
        "outputId": "7bf266d7-e043-44e7-f7a3-567022e8e1dc"
      },
      "execution_count": 24,
      "outputs": [
        {
          "output_type": "stream",
          "name": "stdout",
          "text": [
            "삼성\n",
            "LG\n",
            "현대\n",
            "삼성\n"
          ]
        }
      ]
    },
    {
      "cell_type": "code",
      "source": [
        "#제어문(반복문 while) \n",
        "i = 0\n",
        "while i < 10:  #여기 조건부가 참인 동안 계속 반복\n",
        "  print(i)\n",
        "  i += 1  #프로그램은 우측부터 실행, 왼쪽으로 간다. 즉 i = i+1의 의미"
      ],
      "metadata": {
        "colab": {
          "base_uri": "https://localhost:8080/"
        },
        "id": "qpKrNrGKpyHS",
        "outputId": "b5c83de7-6b55-4f29-96d7-014c96e96370"
      },
      "execution_count": 27,
      "outputs": [
        {
          "output_type": "stream",
          "name": "stdout",
          "text": [
            "0\n",
            "1\n",
            "2\n",
            "3\n",
            "4\n",
            "5\n",
            "6\n",
            "7\n",
            "8\n",
            "9\n"
          ]
        }
      ]
    },
    {
      "cell_type": "code",
      "source": [
        "#함수 정의\n",
        "def add(x, y):  #함수 뒤 괄호 안의 변수를 매개변수라고 한다.\n",
        "  return x+y\n",
        "\n",
        "result = add(5,4)\n",
        "print(result)"
      ],
      "metadata": {
        "colab": {
          "base_uri": "https://localhost:8080/"
        },
        "id": "-ot5EhtrqSCI",
        "outputId": "f67b543f-6a38-4ec6-e4c8-223c9980a1ef"
      },
      "execution_count": 31,
      "outputs": [
        {
          "output_type": "stream",
          "name": "stdout",
          "text": [
            "9\n"
          ]
        }
      ]
    },
    {
      "cell_type": "code",
      "source": [
        "#사칙 연산, 제곱(**), 몫(//)과 나머지(%)\n",
        "a = 1\n",
        "b = 2\n",
        "c, d, e = 3,4,5\n",
        "print(a+b, a-b, a*b, a/b)\n",
        "print(c**b, b**0.5)\n",
        "print(e/b, e//b, e%b)  #나누기, 몫구하기, 나머지"
      ],
      "metadata": {
        "colab": {
          "base_uri": "https://localhost:8080/"
        },
        "id": "JF9Ha7L7se_F",
        "outputId": "ce9320c6-41aa-4fdc-f5ba-81472dc848fb"
      },
      "execution_count": 55,
      "outputs": [
        {
          "output_type": "stream",
          "name": "stdout",
          "text": [
            "3 -1 2 0.5\n",
            "9 1.4142135623730951\n",
            "2.5 2 1\n",
            "\n",
            "\n",
            "c+d의 값은: e = c+d = 5\n"
          ]
        }
      ]
    },
    {
      "cell_type": "code",
      "source": [
        "#파이썬 내장함수 format 사용 예제\n",
        "c,d = 3,4\n",
        "e = c+d\n",
        "print( \"c+d의 값은: e = c+d = {0:d}\". format(e) )"
      ],
      "metadata": {
        "colab": {
          "base_uri": "https://localhost:8080/"
        },
        "id": "hV9mIy7augP5",
        "outputId": "72d7930d-5bc7-42af-b8d4-796fb6bc216c"
      },
      "execution_count": 60,
      "outputs": [
        {
          "output_type": "stream",
          "name": "stdout",
          "text": [
            "c+d의 값은: e = c+d = 7\n"
          ]
        }
      ]
    },
    {
      "cell_type": "code",
      "source": [
        "#파이썬 내장함수 format 사용 예제2\n",
        "a,b,c,d,e=1,2,3,4,5\n",
        "print( \"+,-,*,/ 사칙연산의 결과들은 {0},{1},{2},{3} 이다.\" .format(a+b,a-b,a*b,a/b) )\n",
        "print( \"c의 e제곱과 b의 제곱근의 결과들은 {0:d},{1:.2f}이다.\" .format(c**e, b**0.5) )\n",
        "        #{0:d}는 format의 첫번째 요소(c**e)를 정수형으로 나타내라는 의미\n",
        "        #{1:.2f}는 format의 두번재 요소(b**0.5)를 소숫점 둘째자리까지의 실수형으로 나타내라는 의미"
      ],
      "metadata": {
        "colab": {
          "base_uri": "https://localhost:8080/"
        },
        "id": "hkrg03pd18W9",
        "outputId": "a6949c2d-7221-4969-9e4e-e198bdf1a65c"
      },
      "execution_count": 64,
      "outputs": [
        {
          "output_type": "stream",
          "name": "stdout",
          "text": [
            "+,-,*,/ 사칙연산의 결과들은 3,-1,2,0.5 이다.\n",
            "c의 e제곱과 b의 제곱근의 결과들은 243,1.41이다.\n"
          ]
        }
      ]
    },
    {
      "cell_type": "code",
      "source": [
        "string1 = \"What are Python's strength?\"\n",
        "string2 = '\"Python is very easy.\" I always say.'\n",
        "string3 = \" \\\"Python is very easy.\\\" I always say.\" #따옴표 앞에 백슬래쉬(\\) 넣으면 따옴표를 문자로 출력한다.\n",
        "string1, string2, string3"
      ],
      "metadata": {
        "colab": {
          "base_uri": "https://localhost:8080/"
        },
        "id": "t6x7IdHq2cpO",
        "outputId": "467180ae-fd87-4f61-942e-f1f45eddf249"
      },
      "execution_count": 72,
      "outputs": [
        {
          "output_type": "execute_result",
          "data": {
            "text/plain": [
              "(\"What are Python's strength?\",\n",
              " '\"Python is very easy.\" I always say.',\n",
              " ' \"Python is very easy.\" I always say.')"
            ]
          },
          "metadata": {},
          "execution_count": 72
        }
      ]
    },
    {
      "cell_type": "code",
      "source": [
        "tab_string = \"\\t\" # \\t는 탭문자를 의미. 예약어이고, 하나의 문자로 인식됨\n",
        "print(len(tab_string))\n",
        "\n",
        "n_tab_string = r\"\\t\" # \\t앞에 r을 붙이면, \\와 t를 개별 문자로 인식한다.\n",
        "print(len(n_tab_string))"
      ],
      "metadata": {
        "colab": {
          "base_uri": "https://localhost:8080/"
        },
        "id": "rgR-6f2NBG7q",
        "outputId": "9c1820ed-f8ac-4d25-d3a0-6440020e602b"
      },
      "execution_count": 75,
      "outputs": [
        {
          "output_type": "stream",
          "name": "stdout",
          "text": [
            "1\n",
            "2\n"
          ]
        }
      ]
    },
    {
      "cell_type": "code",
      "source": [
        "#문자열 합치기\n",
        "company_name = \"Samsung\"\n",
        "price = \"85000\" #따옴표 안에 있으므로 숫자가 아닌 문자 85000임. 따옴표 없애면 에러난다.\n",
        "stock_price = company_name + \" \" + price\n",
        "stock_price"
      ],
      "metadata": {
        "colab": {
          "base_uri": "https://localhost:8080/",
          "height": 35
        },
        "id": "BX54U5DABc-u",
        "outputId": "41e36563-3208-4e9e-f6dc-db0a86abcafa"
      },
      "execution_count": 79,
      "outputs": [
        {
          "output_type": "execute_result",
          "data": {
            "application/vnd.google.colaboratory.intrinsic+json": {
              "type": "string"
            },
            "text/plain": [
              "'Samsung 85000'"
            ]
          },
          "metadata": {},
          "execution_count": 79
        }
      ]
    },
    {
      "cell_type": "code",
      "source": [
        "print(\"*\"*50) #별표 50개 출력\n",
        "print(stock_price*3)\n",
        "print(\"*\"*50)"
      ],
      "metadata": {
        "colab": {
          "base_uri": "https://localhost:8080/"
        },
        "id": "i9AWQgLjCfYW",
        "outputId": "5847b248-a67d-44d8-a31d-8bd319d2927f"
      },
      "execution_count": 81,
      "outputs": [
        {
          "output_type": "stream",
          "name": "stdout",
          "text": [
            "**************************************************\n",
            "Samsung 85000Samsung 85000Samsung 85000\n",
            "**************************************************\n"
          ]
        }
      ]
    },
    {
      "cell_type": "code",
      "source": [
        "#인덱싱 슬라이싱(문자열 특정 부분 자르기)\n",
        "single_string = 'To be, or not to be, that is the problem'\n",
        "print(len(single_string), single_string[0]) #인덱싱 [0]은 첫 번째 요소니까 \"T\"출력\n",
        "print(single_string[5]) #인덱스[5]는 6번째 요소 \",\"\n",
        "print(single_string[:5]) # :5는 처음(\"T\")부터 5번째 원소(\"e\")까지 출력. 이 경우 카운팅이 0이 아닌 1부터 시작됨\n",
        "\n",
        "print(\"\\n\")\n",
        "\n",
        "print(single_string[10]) #인덱스[10]은 11번째인 \"n\"\n",
        "print(single_string[-1]) #인덱스[-1]은 마지막 요소인 \"m\"\n",
        "print(single_string[10:-1]) #[10:-1]은 인덱스 10부터 끝까지 출력"
      ],
      "metadata": {
        "colab": {
          "base_uri": "https://localhost:8080/"
        },
        "id": "XxALP5V4CwNb",
        "outputId": "8ad22075-c4d4-424c-e1d8-a45f530ab83f"
      },
      "execution_count": 103,
      "outputs": [
        {
          "output_type": "stream",
          "name": "stdout",
          "text": [
            "40 T\n",
            ",\n",
            "To be\n",
            "\n",
            "\n",
            "n\n",
            "m\n",
            "not to be, that is the proble\n"
          ]
        }
      ]
    },
    {
      "cell_type": "code",
      "source": [
        "#숫자 바로 넣기\n",
        "print(\"I have %d stocks.\" %3) #정수형이라서 %d\n",
        "\n",
        "#변수를 넣기\n",
        "quantity = 5\n",
        "print(\"I have %d stocks.\" %quantity)\n",
        "\n",
        "#문자열을 넣기\n",
        "company_name = \"Samsung\"\n",
        "print(\"I have %s stocks.\" %company_name)\n",
        "\n",
        "#format함수 활용해서 넣기\n",
        "company_name = \"Samsung\"\n",
        "price = \"85000\"\n",
        "stock_price = \"{0},{price}\".format(company_name, price=50000)\n",
        "print(stock_price) #price에는 초기값(85-)이 아닌 format()안의 값(50-)이 출력된다.\n",
        "\n",
        "# f-string 이용하기 (f는 format을 의미한다.)\n",
        "stock_price2 = f'{company_name} {price}'\n",
        "print(stock_price2)\n",
        "stock_price3 = f\"\"\"{company_name} {price}\"\"\" #큰따옴표나 작은따옴표나 3따옴표나 상관없다.\n",
        "print(stock_price3)"
      ],
      "metadata": {
        "colab": {
          "base_uri": "https://localhost:8080/"
        },
        "id": "I3mHlkroGroF",
        "outputId": "aa1610f1-8288-4f68-e303-e26a0785bb31"
      },
      "execution_count": 118,
      "outputs": [
        {
          "output_type": "stream",
          "name": "stdout",
          "text": [
            "I have 3 stocks.\n",
            "I have 5 stocks.\n",
            "I have Samsung stocks.\n",
            "Samsung,50000\n",
            "Samsung 85000\n",
            "Samsung 85000\n"
          ]
        }
      ]
    },
    {
      "cell_type": "code",
      "source": [
        "new_price = \"100,000\" #문자열10만\n",
        "stock_price5 = f\"\"\"{company_name}\n",
        "{price}\n",
        "{new_price}\"\"\" #여러 줄의 문자열을 저장하니까 3따옴표 필요\n",
        "print(stock_price5) #\"\"\"쓰니까 개행된 채로 그대로 출력된다."
      ],
      "metadata": {
        "colab": {
          "base_uri": "https://localhost:8080/"
        },
        "id": "hFhdCem0yKBv",
        "outputId": "240af201-5666-4190-e15f-f97abada4430"
      },
      "execution_count": 119,
      "outputs": [
        {
          "output_type": "stream",
          "name": "stdout",
          "text": [
            "Samsung\n",
            "85000\n",
            "100,000\n"
          ]
        }
      ]
    },
    {
      "cell_type": "code",
      "source": [
        "#문자열 내장 함수(문자열변수 이름 뒤에 '.'을 붙인 다음, 함수 이름을 써서 사용한다.)\n",
        "single_string = \"to be, or not to be, that is the question\"\n",
        "\n",
        "#문자갯수세기(내장함수 count 사용)\n",
        "print(single_string.count(\"r\")) #r이 몇번 나왔는지\n",
        "print(single_string.count(\"n\"))\n",
        "\n",
        "#문자위치(내장함수 find 사용)\n",
        "print(single_string.find('t')) #처음으로 나온 위치를 알려줌(대소문자 구분한다.)\n",
        "print(single_string.find('be'))"
      ],
      "metadata": {
        "colab": {
          "base_uri": "https://localhost:8080/"
        },
        "id": "k56vsKzT1vTn",
        "outputId": "7cb7a74d-6c31-4f5e-fa5a-7a056513ad5c"
      },
      "execution_count": 124,
      "outputs": [
        {
          "output_type": "stream",
          "name": "stdout",
          "text": [
            "1\n",
            "2\n",
            "0\n",
            "3\n"
          ]
        }
      ]
    },
    {
      "cell_type": "code",
      "source": [
        "text=single_string\n",
        "print(text)\n",
        "\n",
        "#첫 문자를 대문자로 변경\n",
        "print(text.capitalize())\n",
        "\n",
        "#모든 문자를 대문자로 변경\n",
        "print(text.upper())\n",
        "\n",
        "#모든 문자를 소문자로 변경\n",
        "print(text.lower())\n",
        "\n",
        "#문자열 바꾸기\n",
        "print(text.replace(\"question\", \"QUESTION\"))\n",
        "print(\"\\n\")\n",
        "\n",
        "#빈칸을 기준으로 단어별로 나누는 split 내장함수\n",
        "print(text.split())\n",
        "\n",
        "#split함수 안에 특정 값이 있는 경우엔 그것을 기준으로 split한다.\n",
        "print(text.split(\"o\"))\n",
        "text2 = \"ab.cd.ef.g.hij.k\"\n",
        "print(text2.split(\".\"))\n",
        "print(\"\\n\")\n",
        "\n",
        "#특정 문자를 지정해서 지우는 strip 내장함수\n",
        "'http://www.python.org'.strip('htp:/') #tt랑 //는 중복이라 한번만 써도 지워짐"
      ],
      "metadata": {
        "colab": {
          "base_uri": "https://localhost:8080/",
          "height": 244
        },
        "id": "6Q68gO5C3nhs",
        "outputId": "2517b8a7-cd25-4fb3-86d1-d9b9910dfd5a"
      },
      "execution_count": 161,
      "outputs": [
        {
          "output_type": "stream",
          "name": "stdout",
          "text": [
            "to be, or not to be, that is the question\n",
            "To be, or not to be, that is the question\n",
            "TO BE, OR NOT TO BE, THAT IS THE QUESTION\n",
            "to be, or not to be, that is the question\n",
            "to be, or not to be, that is the QUESTION\n",
            "\n",
            "\n",
            "['to', 'be,', 'or', 'not', 'to', 'be,', 'that', 'is', 'the', 'question']\n",
            "['t', ' be, ', 'r n', 't t', ' be, that is the questi', 'n']\n",
            "['ab', 'cd', 'ef', 'g', 'hij', 'k']\n",
            "\n",
            "\n"
          ]
        },
        {
          "output_type": "execute_result",
          "data": {
            "application/vnd.google.colaboratory.intrinsic+json": {
              "type": "string"
            },
            "text/plain": [
              "'www.python.org'"
            ]
          },
          "metadata": {},
          "execution_count": 161
        }
      ]
    },
    {
      "cell_type": "code",
      "source": [
        ""
      ],
      "metadata": {
        "id": "52jSL8756UUy"
      },
      "execution_count": 136,
      "outputs": []
    }
  ]
}